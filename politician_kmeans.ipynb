{
 "cells": [
  {
   "cell_type": "code",
   "execution_count": 4,
   "metadata": {},
   "outputs": [
    {
     "name": "stdout",
     "output_type": "stream",
     "text": [
      "Collecting geopy\n",
      "  Downloading geopy-2.4.1-py3-none-any.whl.metadata (6.8 kB)\n",
      "Collecting geographiclib<3,>=1.52 (from geopy)\n",
      "  Downloading geographiclib-2.0-py3-none-any.whl.metadata (1.4 kB)\n",
      "Downloading geopy-2.4.1-py3-none-any.whl (125 kB)\n",
      "Downloading geographiclib-2.0-py3-none-any.whl (40 kB)\n",
      "Installing collected packages: geographiclib, geopy\n",
      "Successfully installed geographiclib-2.0 geopy-2.4.1\n",
      "\n",
      "\u001b[1m[\u001b[0m\u001b[34;49mnotice\u001b[0m\u001b[1;39;49m]\u001b[0m\u001b[39;49m A new release of pip is available: \u001b[0m\u001b[31;49m24.2\u001b[0m\u001b[39;49m -> \u001b[0m\u001b[32;49m24.3.1\u001b[0m\n",
      "\u001b[1m[\u001b[0m\u001b[34;49mnotice\u001b[0m\u001b[1;39;49m]\u001b[0m\u001b[39;49m To update, run: \u001b[0m\u001b[32;49mpip install --upgrade pip\u001b[0m\n"
     ]
    }
   ],
   "source": [
    "!pip install geopy"
   ]
  },
  {
   "cell_type": "code",
   "execution_count": 20,
   "metadata": {},
   "outputs": [],
   "source": [
    "from sklearn.cluster import KMeans\n",
    "import matplotlib.pyplot as plt\n",
    "from matplotlib.patches import FancyArrowPatch\n",
    "from politician_function import shortest_route\n",
    "from politician_function import calculate_route_distance\n",
    "from politician_function import calculate_group_center\n",
    "#from politician_function import cities_define\n",
    "from politician_function import points_graph\n",
    "from politician_function import final_path_graph\n",
    "import pandas as pd"
   ]
  },
  {
   "cell_type": "markdown",
   "metadata": {},
   "source": [
    "Environment Setting"
   ]
  },
  {
   "cell_type": "code",
   "execution_count": 8,
   "metadata": {},
   "outputs": [],
   "source": [
    "import os\n",
    "os.environ['OMP_NUM_THREADS'] = '1'"
   ]
  },
  {
   "cell_type": "code",
   "execution_count": 22,
   "metadata": {},
   "outputs": [],
   "source": [
    "def cities_define(path):\n",
    "    # Setting the display size\n",
    "    pd.set_option('display.width', 300)\n",
    "    pd.set_option('display.max_rows', None)\n",
    "    pd.set_option('display.max_columns', None)\n",
    "\n",
    "    # Define the coordinates of the cities\n",
    "    cities = pd.read_csv(path)\n",
    "\n",
    "    # Assuming there are 'Latitude' and 'Longitude' columns in your cities DataFrame\n",
    "    cities['Coordinates'] = list(zip(cities['latitude_deg'], cities['longitude_deg']))\n",
    "\n",
    "    # Define the coordinates for the start and end cities\n",
    "    start_city_coords = cities.loc[cities['airport_code'] == 'JFK', 'Coordinates'].iloc[0]\n",
    "    end_city_coords = cities.loc[cities['airport_code'] == 'LAX', 'Coordinates'].iloc[0]  # Adjust based on your data representation\n",
    "    # Note: Ensure the representation of Washington, D.C. matches your dataset\n",
    "    # Generating a list of coordinates for other cities\n",
    "    exclude_cities_coords = [start_city_coords, end_city_coords]\n",
    "    other_cities_coords = cities[~cities['Coordinates'].isin(exclude_cities_coords)]['Coordinates'].tolist()\n",
    "\n",
    "    return cities, cities['Coordinates'], start_city_coords, end_city_coords, exclude_cities_coords, other_cities_coords"
   ]
  },
  {
   "cell_type": "code",
   "execution_count": 24,
   "metadata": {},
   "outputs": [],
   "source": [
    "cities, cities['Coordinates'], start_city_coords, end_city_coords, exclude_cities_coords, other_cities_coords = cities_define('airports.csv')"
   ]
  },
  {
   "cell_type": "code",
   "execution_count": 26,
   "metadata": {},
   "outputs": [
    {
     "data": {
      "image/png": "[encoded data removed]",
      "text/plain": [
       "<Figure size 1000x600 with 1 Axes>"
      ]
     },
     "metadata": {},
     "output_type": "display_data"
    }
   ],
   "source": [
    "graph = points_graph(start_city_coords, end_city_coords, other_cities_coords)\n",
    "plt.show()"
   ]
  },
  {
   "cell_type": "markdown",
   "metadata": {},
   "source": [
    "Use kmeans to separate rest 49 states in 10 groups"
   ]
  },
  {
   "cell_type": "code",
   "execution_count": null,
   "metadata": {},
   "outputs": [],
   "source": [
    "n_clusters = 10\n",
    "kmeans = KMeans(n_clusters=n_clusters, random_state=0, n_init = 10).fit(cities[['Latitude', 'Longitude']])\n",
    "cities['Cluster'] = kmeans.labels_"
   ]
  },
  {
   "cell_type": "markdown",
   "metadata": {},
   "source": [
    "Define different colors for different states"
   ]
  },
  {
   "cell_type": "code",
   "execution_count": null,
   "metadata": {},
   "outputs": [],
   "source": [
    "colors = ['yellow', 'green', 'blue', 'cyan', 'magenta', (0.1, 0.2, 0.5), 'black', 'orange', 'purple', 'brown']\n",
    "for cluster in cities['Cluster'].unique():\n",
    "    # Choose the clusters\n",
    "    cluster_data = cities[cities['Cluster'] == cluster]\n",
    "    # Set different color for different cluster\n",
    "    plt.scatter(cluster_data['Longitude'], cluster_data['Latitude'], label=f'Cluster {cluster}', color=colors[cluster])"
   ]
  },
  {
   "cell_type": "markdown",
   "metadata": {},
   "source": [
    "Plot setting"
   ]
  },
  {
   "cell_type": "code",
   "execution_count": null,
   "metadata": {},
   "outputs": [],
   "source": [
    "plt.title('US State Capitals Clustered')\n",
    "plt.xlabel('Longitude')\n",
    "plt.ylabel('Latitude')\n",
    "plt.grid(True)\n",
    "plt.legend()\n",
    "plt.show()"
   ]
  },
  {
   "cell_type": "markdown",
   "metadata": {},
   "source": [
    "Calculate the shortest path within clusters"
   ]
  },
  {
   "cell_type": "code",
   "execution_count": null,
   "metadata": {},
   "outputs": [],
   "source": [
    "for cluster in range(n_clusters):\n",
    "    cluster_cities_coords = cities[cities['Cluster'] == cluster]['Coordinates'].tolist()\n",
    "    if cluster_cities_coords:  # Check if there are cities in the cluster\n",
    "        route, distance = shortest_route(cluster_cities_coords)\n",
    "        exec(f'group_{cluster} = {route}')\n",
    "        exec(f'distance_{cluster} = {distance}')"
   ]
  },
  {
   "cell_type": "markdown",
   "metadata": {},
   "source": [
    "Define 10 clusters in 10 groups"
   ]
  },
  {
   "cell_type": "code",
   "execution_count": null,
   "metadata": {},
   "outputs": [],
   "source": [
    "groups = {\n",
    "    'group_1': group_0,\n",
    "    'group_2': group_1,\n",
    "    'group_3': group_2,\n",
    "    'group_4': group_3,\n",
    "    'group_5': group_4,\n",
    "    'group_6': group_5,\n",
    "    'group_7': group_6,\n",
    "    'group_8': group_7,\n",
    "    'group_9': group_8,\n",
    "    'group_10': group_9\n",
    "}"
   ]
  },
  {
   "cell_type": "markdown",
   "metadata": {},
   "source": [
    "Reverse Longitude and Latitude to plot"
   ]
  },
  {
   "cell_type": "code",
   "execution_count": null,
   "metadata": {},
   "outputs": [],
   "source": [
    "groups_plot = {}\n",
    "for group, coords in groups.items():\n",
    "    groups_plot[group] = [(longitude, latitude) for latitude, longitude in coords]"
   ]
  },
  {
   "cell_type": "markdown",
   "metadata": {},
   "source": [
    "Plot path for every cluster"
   ]
  },
  {
   "cell_type": "code",
   "execution_count": null,
   "metadata": {},
   "outputs": [],
   "source": [
    "plt.figure(figsize=(10, 8))\n",
    "labels = [key for key in groups_plot.keys()]\n",
    "arrow_patches = []\n",
    "for (group, coords), color in zip(groups_plot.items(), colors):\n",
    "    for i in range(len(coords)-1):\n",
    "        start = coords[i]\n",
    "        end = coords[i+1]\n",
    "        arrow = FancyArrowPatch(start, end, arrowstyle='-|>', color=color, mutation_scale=20)\n",
    "        plt.gca().add_patch(arrow)\n",
    "    arrow_patch = FancyArrowPatch((0, 0), (0, 0), color=color, arrowstyle='-|>', mutation_scale=20)\n",
    "    arrow_patches.append(arrow_patch)"
   ]
  },
  {
   "cell_type": "markdown",
   "metadata": {},
   "source": [
    "Plot setting"
   ]
  },
  {
   "cell_type": "code",
   "execution_count": null,
   "metadata": {},
   "outputs": [],
   "source": [
    "plt.xlim(-130,-65)\n",
    "plt.ylim(30,47.5)\n",
    "plt.title('Path of Each Group')\n",
    "plt.xlabel('Longitude')\n",
    "plt.ylabel('Latitude')\n",
    "plt.grid(True)\n",
    "plt.legend(arrow_patches,labels)\n",
    "plt.show()"
   ]
  },
  {
   "cell_type": "markdown",
   "metadata": {},
   "source": [
    "Add center points into dictionary"
   ]
  },
  {
   "cell_type": "code",
   "execution_count": null,
   "metadata": {},
   "outputs": [],
   "source": [
    "group_centers = {}\n",
    "for group, coords in groups.items():\n",
    "    # Center Calculate\n",
    "    center = calculate_group_center(coords)\n",
    "    group_centers[group] = center"
   ]
  },
  {
   "cell_type": "markdown",
   "metadata": {},
   "source": [
    "Calculate the shortest path for center points which will represent the shortest path for each group"
   ]
  },
  {
   "cell_type": "code",
   "execution_count": null,
   "metadata": {},
   "outputs": [],
   "source": [
    "route, distance = shortest_route(value for value in group_centers.values())\n",
    "print(route)\n",
    "print(distance)\n",
    "# route = [(21.307442, -157.857376), (58.301598, -134.420212), (42.666524599999995, -120.67897779999998), (39.562175833333335, -108.62473933333332), (42.30993314285714, -96.05517257142859), (32.8834385, -97.6218455), (32.3453985, -88.10476299999999), (39.95559757142858, -86.34515157142857), (37.868266250000005, -78.07769875000001), (42.57538275, -72.198608625)]\n",
    "# distance = 8050.998174199292"
   ]
  },
  {
   "cell_type": "markdown",
   "metadata": {},
   "source": [
    "Convert coordinates to group num"
   ]
  },
  {
   "cell_type": "code",
   "execution_count": null,
   "metadata": {},
   "outputs": [],
   "source": [
    "result_groups = []\n",
    "for coord in route:\n",
    "    for group, center in group_centers.items():\n",
    "        if coord == center:\n",
    "            result_groups.append(group)\n",
    "            break"
   ]
  },
  {
   "cell_type": "markdown",
   "metadata": {},
   "source": [
    "Define the total path"
   ]
  },
  {
   "cell_type": "code",
   "execution_count": null,
   "metadata": {},
   "outputs": [],
   "source": [
    "total_path = [start_city_coords]\n",
    "for group_key in result_groups:\n",
    "    coords = groups[group_key]\n",
    "    total_path.extend(coords)\n",
    "total_path.append(end_city_coords)\n",
    "print(total_path)"
   ]
  },
  {
   "cell_type": "markdown",
   "metadata": {},
   "source": [
    "Calculate the total distance"
   ]
  },
  {
   "cell_type": "code",
   "execution_count": null,
   "metadata": {},
   "outputs": [],
   "source": [
    "total_distance = calculate_route_distance(total_path)\n",
    "print(total_distance)"
   ]
  },
  {
   "cell_type": "markdown",
   "metadata": {},
   "source": [
    "Show the final path."
   ]
  },
  {
   "cell_type": "code",
   "execution_count": null,
   "metadata": {},
   "outputs": [],
   "source": [
    "path = [cities.loc[cities['Coordinates'] == coord, 'States'].iloc[0] for coord in total_path]\n",
    "print(path)"
   ]
  },
  {
   "cell_type": "markdown",
   "metadata": {},
   "source": [
    "Plot the path"
   ]
  },
  {
   "cell_type": "code",
   "execution_count": null,
   "metadata": {},
   "outputs": [],
   "source": [
    "total_path_plot = final_path_graph(total_path)\n",
    "plt.show()"
   ]
  }
 ],
 "metadata": {
  "kernelspec": {
   "display_name": "Python 3 (ipykernel)",
   "language": "python",
   "name": "python3"
  },
  "language_info": {
   "codemirror_mode": {
    "name": "ipython",
    "version": 3
   },
   "file_extension": ".py",
   "mimetype": "text/x-python",
   "name": "python",
   "nbconvert_exporter": "python",
   "pygments_lexer": "ipython3",
   "version": "3.12.4"
  }
 },
 "nbformat": 4,
 "nbformat_minor": 4
}
